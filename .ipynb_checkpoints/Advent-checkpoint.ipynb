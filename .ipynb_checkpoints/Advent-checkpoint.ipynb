{
 "cells": [
  {
   "cell_type": "markdown",
   "metadata": {},
   "source": [
    "# Day 1\n",
    "\n",
    "f = open(\"Data/advent1.txt\", \"r\")\n",
    "lines = f.read().splitlines()\n",
    "found = False\n",
    "for x in lines:\n",
    "    for y in lines:\n",
    "        c = int(x) + int(y)\n",
    "        if c == 2020:\n",
    "            print(int(x)*int(y))\n",
    "            found = True\n",
    "        if found:\n",
    "            break\n",
    "    if found:\n",
    "        break\n",
    "\n"
   ]
  },
  {
   "cell_type": "code",
   "execution_count": 4,
   "metadata": {},
   "outputs": [
    {
     "name": "stdout",
     "output_type": "stream",
     "text": [
      "214486272\n"
     ]
    }
   ],
   "source": [
    "# Day 1\n",
    "f = open(\"Data/advent1.txt\", \"r\")\n",
    "lines = f.read().splitlines()\n",
    "found = False\n",
    "for x in lines:\n",
    "    for y in lines:\n",
    "        for z in lines:\n",
    "            c = int(x) + int(y) + int(z)\n",
    "            if c == 2020:\n",
    "                print(int(x)*int(y) * int(z))\n",
    "                found = True\n",
    "            if found:\n",
    "                break\n",
    "        if found:\n",
    "            break\n",
    "    if found:\n",
    "        break"
   ]
  },
  {
   "cell_type": "code",
   "execution_count": 39,
   "metadata": {
    "tags": []
   },
   "outputs": [
    {
     "name": "stdout",
     "output_type": "stream",
     "text": [
      "603\n"
     ]
    }
   ],
   "source": [
    "# Day 2 Part 1\n",
    "f = open(\"Data/advent2.txt\", \"r\")\n",
    "lines = f.read().splitlines()\n",
    "valids = 0\n",
    "for x in lines:\n",
    "    arr = x.split()\n",
    "    lower = int(arr[0].split(\"-\")[0])\n",
    "    higher = int(arr[0].split(\"-\")[1])\n",
    "    letter = arr[1].split(\":\")[0]\n",
    "    count = 0\n",
    "    for c in arr[2]:\n",
    "        if c == letter:\n",
    "            count += 1\n",
    "    if count >= lower and count <= higher:\n",
    "        valids += 1\n",
    "\n",
    "print(valids)\n",
    "    \n",
    "    "
   ]
  },
  {
   "cell_type": "code",
   "execution_count": 3,
   "metadata": {},
   "outputs": [
    {
     "name": "stdout",
     "output_type": "stream",
     "text": [
      "404\n"
     ]
    }
   ],
   "source": [
    "# Day 2 Part 2\n",
    "f = open(\"Data/advent2.txt\", \"r\")\n",
    "lines = f.read().splitlines()\n",
    "valids = 0\n",
    "for x in lines:\n",
    "    arr = x.split()\n",
    "    lower = int(arr[0].split(\"-\")[0])\n",
    "    higher = int(arr[0].split(\"-\")[1])\n",
    "    letter = arr[1].split(\":\")[0]\n",
    "    count = 0\n",
    "    for i in range(len(arr[2])):\n",
    "        if arr[2][i] == letter and (i+1 == lower or i + 1 == higher):\n",
    "            count += 1\n",
    "    if count > 0 and count < 2:\n",
    "        valids += 1\n",
    "\n",
    "print(valids)\n",
    "    "
   ]
  },
  {
   "cell_type": "code",
   "execution_count": null,
   "metadata": {},
   "outputs": [],
   "source": []
  }
 ],
 "metadata": {
  "kernelspec": {
   "display_name": "Python 3",
   "language": "python",
   "name": "python3"
  },
  "language_info": {
   "codemirror_mode": {
    "name": "ipython",
    "version": 3
   },
   "file_extension": ".py",
   "mimetype": "text/x-python",
   "name": "python",
   "nbconvert_exporter": "python",
   "pygments_lexer": "ipython3",
   "version": "3.8.3"
  }
 },
 "nbformat": 4,
 "nbformat_minor": 2
}
