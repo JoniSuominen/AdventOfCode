{
 "metadata": {
  "language_info": {
   "codemirror_mode": {
    "name": "ipython",
    "version": 3
   },
   "file_extension": ".py",
   "mimetype": "text/x-python",
   "name": "python",
   "nbconvert_exporter": "python",
   "pygments_lexer": "ipython3",
   "version": "3.8.3-final"
  },
  "orig_nbformat": 2,
  "kernelspec": {
   "name": "python3",
   "display_name": "Python 3"
  }
 },
 "nbformat": 4,
 "nbformat_minor": 2,
 "cells": [
  {
   "source": [
    "Advent of Code Notebook\n"
   ],
   "cell_type": "markdown",
   "metadata": {}
  },
  {
   "source": [
    "# Day 1\n",
    "\n",
    "f = open(\"Data/advent1.txt\", \"r\")\n",
    "lines = f.read().splitlines()\n",
    "found = False\n",
    "for x in lines:\n",
    "    for y in lines:\n",
    "        c = int(x) + int(y)\n",
    "        if c == 2020:\n",
    "            print(int(x)*int(y))\n",
    "            found = True\n",
    "        if found:\n",
    "            break\n",
    "    if found:\n",
    "        break\n",
    "\n"
   ],
   "cell_type": "code",
   "metadata": {},
   "execution_count": null,
   "outputs": []
  },
  {
   "cell_type": "code",
   "execution_count": null,
   "metadata": {},
   "outputs": [],
   "source": [
    "# Day 1\n",
    "f = open(\"Data/advent1.txt\", \"r\")\n",
    "lines = f.read().splitlines()\n",
    "found = False\n",
    "for x in lines:\n",
    "    for y in lines:\n",
    "        for z in lines:\n",
    "            c = int(x) + int(y) + int(z)\n",
    "            if c == 2020:\n",
    "                print(int(x)*int(y) * int(z))\n",
    "                found = True\n",
    "            if found:\n",
    "                break\n",
    "        if found:\n",
    "            break\n",
    "    if found:\n",
    "        break"
   ]
  },
  {
   "cell_type": "code",
   "execution_count": null,
   "metadata": {
    "tags": []
   },
   "outputs": [],
   "source": [
    "# Day 2 Part 1\n",
    "f = open(\"Data/advent2.txt\", \"r\")\n",
    "lines = f.read().splitlines()\n",
    "valids = 0\n",
    "for x in lines:\n",
    "    arr = x.split()\n",
    "    lower = int(arr[0].split(\"-\")[0])\n",
    "    higher = int(arr[0].split(\"-\")[1])\n",
    "    letter = arr[1].split(\":\")[0]\n",
    "    count = 0\n",
    "    for c in arr[2]:\n",
    "        if c == letter:\n",
    "            count += 1\n",
    "    if count >= lower and count <= higher:\n",
    "        valids += 1\n",
    "\n",
    "print(valids)\n",
    "    \n",
    "    "
   ]
  },
  {
   "cell_type": "code",
   "execution_count": null,
   "metadata": {},
   "outputs": [],
   "source": [
    "# Day 2 Part 2\n",
    "f = open(\"Data/advent2.txt\", \"r\")\n",
    "lines = f.read().splitlines()\n",
    "valids = 0\n",
    "for x in lines:\n",
    "    arr = x.split()\n",
    "    lower = int(arr[0].split(\"-\")[0])\n",
    "    higher = int(arr[0].split(\"-\")[1])\n",
    "    letter = arr[1].split(\":\")[0]\n",
    "    count = 0\n",
    "    for i in range(len(arr[2])):\n",
    "        if arr[2][i] == letter and (i+1 == lower or i + 1 == higher):\n",
    "            count += 1\n",
    "    if count > 0 and count < 2:\n",
    "        valids += 1\n",
    "\n",
    "#print(valids)\n",
    "    "
   ]
  },
  {
   "cell_type": "code",
   "execution_count": null,
   "metadata": {
    "tags": []
   },
   "outputs": [],
   "source": [
    "# Day 3 Part 1\n",
    "f = open(\"Data/advent3.txt\", \"r\")\n",
    "lines = f.read().splitlines()\n",
    "j = 3\n",
    "count = 0\n",
    "for x in range(len(lines)):\n",
    "    if x == 1:\n",
    "        continue\n",
    "    arr = [char for char in lines[x]]  \n",
    "    if j >= len(lines[x]):\n",
    "        j = j - len(lines[x])\n",
    "    if (arr[j] == '#'):\n",
    "        count +=  1\n",
    "    j += 3\n",
    "\n",
    "print(count)\n"
   ]
  },
  {
   "cell_type": "code",
   "execution_count": null,
   "metadata": {},
   "outputs": [],
   "source": [
    "# Day 3 Part 2\n",
    "f = open(\"Data/advent3.txt\", \"r\")\n",
    "lines = f.read().splitlines()\n",
    "slopes = [[1, 1], [3,1], [5,1], [7,1], [1,2]]\n",
    "slopeidx = 0\n",
    "count = 0\n",
    "while(slopeidx < 5):\n",
    "    tempcount = 0\n",
    "    x = slopes[slopeidx][1]\n",
    "    y = slopes[slopeidx][0]\n",
    "    while(x < len(lines)):\n",
    "        arr = [char for char in lines[x]]  \n",
    "        if y >= len(lines[x]):\n",
    "            y = y - len(lines[x])\n",
    "        if (arr[y] == \"#\"):\n",
    "            tempcount += 1\n",
    "        x += slopes[slopeidx][1]\n",
    "        y += slopes[slopeidx][0]\n",
    "    slopeidx += 1\n",
    "    if (count == 0):\n",
    "        count += tempcount\n",
    "    else:\n",
    "        count *= tempcount\n",
    "    \n",
    "print(count)"
   ]
  },
  {
   "cell_type": "code",
   "execution_count": null,
   "metadata": {
    "tags": []
   },
   "outputs": [],
   "source": [
    "# Day 4 Part 1\n",
    "f = open(\"Data/advent4.txt\", \"r\")\n",
    "lines = f.read()\n",
    "c = lines.split(\"\\n\\n\")\n",
    "count = 0\n",
    "for x in c:\n",
    "    t = x.split(\"\\n\")\n",
    "    list = []\n",
    "    for m in t:\n",
    "        j = m.split(\" \")\n",
    "        for n in j:\n",
    "            list.append(n)\n",
    "\n",
    "    d = dict(s.split(':',1) for s in list)\n",
    "\n",
    "    if {'byr', 'iyr', 'eyr', 'hgt','hcl','ecl','pid'} <= d.keys():\n",
    "        #print(d)\n",
    "        count += 1\n",
    "print(count)\n"
   ]
  },
  {
   "cell_type": "code",
   "execution_count": 72,
   "metadata": {
    "tags": []
   },
   "outputs": [
    {
     "output_type": "stream",
     "name": "stdout",
     "text": [
      "{'iyr': '2013', 'ecl': 'brn', 'hcl': '#623a2f', 'cid': '246', 'byr': '1948', 'pid': '122719649', 'hgt': '160cm', 'eyr': '2026'}\n{'eyr': '2028', 'pid': '229371724', 'hgt': '154cm', 'hcl': '#ceb3a1', 'byr': '2000', 'ecl': 'hzl', 'iyr': '2017'}\n{'eyr': '2029', 'ecl': 'amb', 'byr': '1980', 'hgt': '177cm', 'pid': '914628384', 'hcl': '#623a2f', 'iyr': '2013'}\n{'iyr': '2019', 'eyr': '2026', 'hcl': '#efcc98', 'pid': '475316185', 'byr': '1945', 'hgt': '76in', 'ecl': 'amb'}\n{'iyr': '2012', 'hcl': '#b6652a', 'hgt': '160cm', 'pid': '223041037', 'eyr': '2029', 'byr': '1920', 'ecl': 'oth', 'cid': '212'}\n{'pid': '465404256', 'hcl': '#7a54af', 'ecl': 'blu', 'hgt': '180cm', 'iyr': '2018', 'eyr': '2024', 'byr': '1933'}\n{'pid': '171225044', 'hcl': '#888785', 'byr': '1992', 'ecl': 'amb', 'iyr': '2012', 'eyr': '2030', 'hgt': '180cm'}\n{'pid': '166619054', 'cid': '125', 'hcl': '#cfa07d', 'hgt': '164cm', 'byr': '1946', 'ecl': 'brn', 'iyr': '2014', 'eyr': '2023'}\n{'ecl': 'oth', 'pid': '180428876', 'iyr': '2019', 'byr': '2001', 'eyr': '2024', 'hgt': '172cm', 'hcl': '#7d3b0c', 'cid': '81'}\n{'pid': '377737133', 'hgt': '160cm', 'byr': '1958', 'hcl': '#866857', 'ecl': 'oth', 'iyr': '2015', 'eyr': '2022', 'cid': '350'}\n{'hgt': '188cm', 'eyr': '2025', 'ecl': 'brn', 'hcl': '#efcc98', 'iyr': '2015', 'pid': '321192707', 'byr': '1996'}\n{'byr': '1956', 'iyr': '2018', 'hcl': '#b6652a', 'eyr': '2024', 'ecl': 'blu', 'cid': '343', 'hgt': '152cm', 'pid': '192659885'}\n{'hgt': '163cm', 'iyr': '2012', 'byr': '1952', 'eyr': '2022', 'hcl': '#efcc98', 'ecl': 'grn', 'pid': '337866006'}\n{'ecl': 'grn', 'byr': '1945', 'eyr': '2028', 'hcl': '#cfa07d', 'iyr': '2012', 'cid': '108', 'pid': '388941584', 'hgt': '171cm'}\n{'ecl': 'amb', 'byr': '1989', 'pid': '118257086', 'iyr': '2019', 'cid': '320', 'hgt': '158cm', 'eyr': '2027', 'hcl': '#733820'}\n{'byr': '1976', 'ecl': 'blu', 'eyr': '2024', 'hcl': '#fffffd', 'hgt': '153cm', 'pid': '552154655', 'iyr': '2019'}\n{'eyr': '2021', 'cid': '105', 'iyr': '2013', 'byr': '1995', 'ecl': 'grn', 'hgt': '181cm', 'pid': '733189859', 'hcl': '#b6652a'}\n{'hcl': '#6b5442', 'eyr': '2028', 'iyr': '2013', 'byr': '1958', 'hgt': '169cm', 'ecl': 'gry', 'pid': '651263830', 'cid': '51'}\n{'byr': '1936', 'eyr': '2025', 'ecl': 'hzl', 'hcl': '#b6652a', 'iyr': '2019', 'pid': '670202082', 'hgt': '186cm'}\n{'iyr': '2015', 'eyr': '2022', 'pid': '630105579', 'hcl': '#7d3b0c', 'byr': '1935', 'ecl': 'gry', 'hgt': '153cm'}\n{'ecl': 'gry', 'hcl': '#fffffd', 'hgt': '172cm', 'byr': '1944', 'eyr': '2021', 'iyr': '2013', 'cid': '58', 'pid': '554670072'}\n{'byr': '1983', 'eyr': '2022', 'iyr': '2012', 'hgt': '176cm', 'ecl': 'brn', 'pid': '201965494', 'hcl': '#dd8296'}\n{'cid': '124', 'byr': '1935', 'eyr': '2020', 'ecl': 'blu', 'hcl': '#a97842', 'pid': '666776663', 'iyr': '2010', 'hgt': '68in'}\n{'byr': '1943', 'pid': '139343878', 'hgt': '181cm', 'hcl': '#733820', 'cid': '206', 'iyr': '2018', 'ecl': 'brn', 'eyr': '2029'}\n{'eyr': '2020', 'pid': '167438086', 'iyr': '2020', 'hcl': '#fffffd', 'hgt': '178cm', 'byr': '1996', 'ecl': 'blu'}\n{'iyr': '2015', 'hcl': '#b6652a', 'pid': '905439259', 'byr': '1962', 'cid': '209', 'ecl': 'brn', 'hgt': '150cm', 'eyr': '2024'}\n{'iyr': '2016', 'ecl': 'amb', 'pid': '855119486', 'cid': '77', 'hgt': '192cm', 'byr': '1947', 'eyr': '2021', 'hcl': '#888785'}\n{'hcl': '#341e13', 'iyr': '2011', 'hgt': '157cm', 'eyr': '2030', 'pid': '103806645', 'cid': '90', 'ecl': 'grn', 'byr': '1976'}\n{'hcl': '#18171d', 'cid': '93', 'eyr': '2027', 'iyr': '2013', 'pid': '821161144', 'ecl': 'brn', 'byr': '2002', 'hgt': '170cm'}\n{'hgt': '181cm', 'byr': '1972', 'iyr': '2018', 'hcl': '#fffffd', 'pid': '745667222', 'eyr': '2023', 'ecl': 'hzl'}\n{'hcl': '#602927', 'byr': '1996', 'ecl': 'blu', 'pid': '503245375', 'hgt': '166cm', 'eyr': '2028', 'iyr': '2018'}\n{'eyr': '2023', 'iyr': '2016', 'hcl': '#18171d', 'hgt': '173cm', 'cid': '182', 'pid': '979409688', 'ecl': 'brn', 'byr': '1972'}\n{'iyr': '2014', 'eyr': '2027', 'byr': '1977', 'ecl': 'brn', 'hgt': '171cm', 'hcl': '#b6652a', 'pid': '124307431'}\n{'hgt': '179cm', 'iyr': '2014', 'eyr': '2030', 'pid': '397317466', 'byr': '1967', 'hcl': '#a97842', 'ecl': 'grn'}\n{'pid': '138485312', 'ecl': 'hzl', 'hgt': '151cm', 'iyr': '2010', 'hcl': '#866857', 'byr': '1936', 'cid': '345', 'eyr': '2021'}\n{'ecl': 'oth', 'pid': '687490850', 'eyr': '2028', 'hcl': '#9bd268', 'hgt': '157cm', 'iyr': '2012', 'byr': '1994'}\n{'byr': '1933', 'pid': '575158994', 'hgt': '192cm', 'iyr': '2017', 'eyr': '2022', 'hcl': '#602927', 'ecl': 'gry'}\n{'iyr': '2012', 'hcl': '#7d3b0c', 'ecl': 'oth', 'eyr': '2023', 'pid': '615952261', 'byr': '1959', 'hgt': '152cm'}\n{'hcl': '#18171d', 'iyr': '2012', 'byr': '1986', 'ecl': 'blu', 'pid': '836367740', 'hgt': '191cm', 'eyr': '2024', 'cid': '200'}\n{'ecl': 'blu', 'pid': '909247319', 'iyr': '2019', 'eyr': '2026', 'byr': '1958', 'hgt': '170cm', 'hcl': '#b6652a', 'cid': '256'}\n{'byr': '1921', 'pid': '414637667', 'hcl': '#8d840f', 'cid': '291', 'iyr': '2013', 'ecl': 'amb', 'eyr': '2029', 'hgt': '172cm'}\n{'byr': '1961', 'iyr': '2020', 'eyr': '2025', 'pid': '675731511', 'hgt': '71in', 'ecl': 'blu', 'hcl': '#623a2f'}\n{'cid': '99', 'hgt': '152cm', 'byr': '1971', 'eyr': '2020', 'hcl': '#733820', 'ecl': 'gry', 'iyr': '2012', 'pid': '020521112'}\n{'pid': '803066169', 'hgt': '157cm', 'iyr': '2014', 'hcl': '#b6652a', 'eyr': '2025', 'ecl': 'brn', 'byr': '1981'}\n{'pid': '179471060', 'byr': '1966', 'ecl': 'amb', 'hcl': '#18171d', 'eyr': '2029', 'iyr': '2015', 'hgt': '190cm'}\n{'hcl': '#efcc98', 'ecl': 'gry', 'byr': '1942', 'eyr': '2026', 'iyr': '2011', 'hgt': '158cm', 'pid': '721512314'}\n{'hcl': '#b6652a', 'pid': '179977662', 'iyr': '2018', 'ecl': 'gry', 'byr': '1973', 'hgt': '155cm', 'cid': '126', 'eyr': '2030'}\n{'hgt': '183cm', 'byr': '1996', 'eyr': '2023', 'hcl': '#866857', 'iyr': '2018', 'pid': '259910953', 'ecl': 'brn'}\n{'hgt': '193cm', 'ecl': 'amb', 'eyr': '2023', 'iyr': '2020', 'byr': '1933', 'cid': '50', 'hcl': '#efcc98', 'pid': '482745318'}\n{'hcl': '#b6652a', 'eyr': '2028', 'byr': '1921', 'ecl': 'blu', 'pid': '866536313', 'hgt': '185cm', 'iyr': '2020'}\n{'eyr': '2027', 'pid': '904225608', 'iyr': '2010', 'cid': '57', 'hgt': '161cm', 'hcl': '#83ee3c', 'ecl': 'gry', 'byr': '2001'}\n{'byr': '1968', 'pid': '120450875', 'iyr': '2018', 'hgt': '165cm', 'ecl': 'grn', 'eyr': '2022', 'hcl': '#7d3b0c'}\n{'hcl': '#a97842', 'byr': '1964', 'eyr': '2027', 'ecl': 'oth', 'hgt': '186cm', 'iyr': '2010', 'cid': '226', 'pid': '632344779'}\n{'pid': '135449714', 'cid': '348', 'iyr': '2019', 'hcl': '#602927', 'ecl': 'oth', 'eyr': '2029', 'hgt': '184cm', 'byr': '1992'}\n{'eyr': '2027', 'byr': '1929', 'hgt': '181cm', 'hcl': '#fffffd', 'iyr': '2019', 'pid': '369478657', 'ecl': 'blu'}\n{'hgt': '177cm', 'eyr': '2021', 'iyr': '2016', 'ecl': 'gry', 'byr': '1938', 'hcl': '#602927', 'pid': '034365656'}\n{'pid': '664990234', 'hcl': '#efcc98', 'cid': '185', 'iyr': '2018', 'ecl': 'brn', 'hgt': '192cm', 'byr': '1942', 'eyr': '2029'}\n{'eyr': '2027', 'hgt': '163cm', 'pid': '760854338', 'cid': '228', 'byr': '1958', 'iyr': '2014', 'hcl': '#efcc98', 'ecl': 'gry'}\n{'iyr': '2014', 'hcl': '#18171d', 'hgt': '157cm', 'ecl': 'amb', 'eyr': '2025', 'byr': '1957', 'pid': '347369874'}\n{'pid': '013801431', 'byr': '1999', 'hgt': '181cm', 'eyr': '2029', 'ecl': 'amb', 'iyr': '2010', 'hcl': '#b6652a'}\n{'cid': '315', 'iyr': '2011', 'hgt': '151cm', 'hcl': '#ffb5f9', 'pid': '427813663', 'byr': '1999', 'ecl': 'brn', 'eyr': '2025'}\n{'eyr': '2026', 'byr': '1996', 'iyr': '2018', 'ecl': 'grn', 'hgt': '158cm', 'pid': '026432567', 'hcl': '#602927'}\n{'iyr': '2014', 'ecl': 'hzl', 'byr': '1964', 'eyr': '2020', 'hgt': '184cm', 'pid': '031793197', 'hcl': '#fffffd'}\n{'ecl': 'oth', 'hgt': '165cm', 'byr': '1982', 'pid': '172329608', 'hcl': '#733820', 'iyr': '2019', 'eyr': '2020', 'cid': '347'}\n{'ecl': 'gry', 'iyr': '2011', 'hcl': '#a97842', 'byr': '1942', 'pid': '789953865', 'cid': '172', 'hgt': '180cm', 'eyr': '2027'}\n{'hgt': '179cm', 'pid': '975853536', 'iyr': '2018', 'byr': '1989', 'hcl': '#602927', 'eyr': '2021', 'ecl': 'amb'}\n{'hcl': '#ceb3a1', 'pid': '762609805', 'byr': '1962', 'hgt': '150cm', 'iyr': '2016', 'eyr': '2024', 'ecl': 'oth'}\n{'iyr': '2012', 'pid': '181821528', 'byr': '1922', 'ecl': 'gry', 'hcl': '#a97842', 'hgt': '169cm', 'eyr': '2028'}\n{'eyr': '2029', 'pid': '776605704', 'byr': '1964', 'hgt': '175cm', 'hcl': '#623a2f', 'ecl': 'grn', 'iyr': '2011'}\n{'byr': '1989', 'iyr': '2019', 'ecl': 'gry', 'pid': '397990288', 'hcl': '#602927', 'hgt': '67in', 'eyr': '2030', 'cid': '259'}\n{'hcl': '#866857', 'iyr': '2018', 'ecl': 'blu', 'byr': '1938', 'cid': '227', 'eyr': '2028', 'hgt': '171cm', 'pid': '779192850'}\n{'byr': '1974', 'hcl': '#cfa07d', 'eyr': '2026', 'hgt': '59in', 'cid': '51', 'iyr': '2019', 'ecl': 'oth', 'pid': '091591737'}\n{'byr': '1952', 'cid': '301', 'pid': '804465935', 'hgt': '152cm', 'eyr': '2025', 'hcl': '#888785', 'iyr': '2013', 'ecl': 'hzl'}\n{'byr': '1945', 'hcl': '#b6652a', 'hgt': '163cm', 'ecl': 'brn', 'eyr': '2025', 'iyr': '2015', 'pid': '829875350'}\n{'byr': '1940', 'hgt': '174cm', 'iyr': '2014', 'pid': '9989523268', 'ecl': 'gry', 'eyr': '2026', 'hcl': '#efcc98'}\n{'pid': '091142801', 'hcl': '#c0946f', 'byr': '1983', 'ecl': 'blu', 'iyr': '2017', 'hgt': '183cm', 'eyr': '2027'}\n{'ecl': 'oth', 'iyr': '2011', 'hgt': '158cm', 'byr': '1950', 'pid': '902512428', 'hcl': '#623a2f', 'eyr': '2028'}\n{'eyr': '2020', 'iyr': '2020', 'ecl': 'oth', 'byr': '1938', 'hcl': '#d5eb7e', 'pid': '829945241', 'hgt': '171cm'}\n{'byr': '1971', 'pid': '998912876', 'eyr': '2022', 'iyr': '2012', 'hcl': '#cfa07d', 'cid': '338', 'ecl': 'brn', 'hgt': '183cm'}\n{'ecl': 'amb', 'hcl': '#7d3b0c', 'pid': '331124964', 'iyr': '2013', 'byr': '1945', 'hgt': '189cm', 'eyr': '2028'}\n{'pid': '012740434', 'iyr': '2019', 'byr': '1998', 'hgt': '172cm', 'eyr': '2028', 'cid': '102', 'hcl': '#866857', 'ecl': 'amb'}\n{'hcl': '#866857', 'eyr': '2027', 'hgt': '181cm', 'byr': '1954', 'ecl': 'blu', 'iyr': '2010', 'pid': '211721858'}\n{'hgt': '167cm', 'byr': '1930', 'ecl': 'oth', 'pid': '740024142', 'eyr': '2024', 'hcl': '#341e13', 'iyr': '2018'}\n{'byr': '1968', 'hcl': '#623a2f', 'ecl': 'brn', 'cid': '210', 'hgt': '155cm', 'iyr': '2017', 'pid': '216618180', 'eyr': '2024'}\n{'byr': '1966', 'pid': '131332466', 'hgt': '174cm', 'ecl': 'amb', 'hcl': '#733820', 'iyr': '2013', 'eyr': '2023'}\n{'iyr': '2014', 'ecl': 'hzl', 'hgt': '154cm', 'byr': '1962', 'pid': '904474869', 'hcl': '#6b5442', 'eyr': '2023'}\n{'ecl': 'hzl', 'iyr': '2012', 'eyr': '2027', 'pid': '663644982', 'hgt': '175cm', 'cid': '56', 'byr': '1980', 'hcl': '#ceb3a1'}\n{'eyr': '2020', 'iyr': '2012', 'hgt': '190cm', 'byr': '1993', 'hcl': '#a97842', 'ecl': 'amb', 'pid': '418635216'}\n{'pid': '845398140', 'byr': '1933', 'iyr': '2016', 'ecl': 'oth', 'eyr': '2024', 'hcl': '#cfa07d', 'hgt': '169cm'}\n{'hcl': '#6b5442', 'eyr': '2027', 'hgt': '191cm', 'iyr': '2012', 'pid': '642929864', 'ecl': 'amb', 'byr': '1934'}\n{'eyr': '2030', 'byr': '1938', 'hgt': '188cm', 'iyr': '2018', 'pid': '652645847', 'hcl': '#b6652a', 'ecl': 'grn'}\n{'pid': '157056211', 'iyr': '2010', 'hcl': '#cfa07d', 'ecl': 'gry', 'eyr': '2024', 'byr': '1961', 'hgt': '177cm'}\n{'eyr': '2020', 'hcl': '#60945e', 'ecl': 'brn', 'iyr': '2011', 'pid': '688090869', 'hgt': '171cm', 'byr': '1941'}\n{'byr': '1996', 'hcl': '#733820', 'pid': '142902538', 'eyr': '2023', 'iyr': '2012', 'ecl': 'oth', 'hgt': '166cm'}\n{'iyr': '2017', 'pid': '388674097', 'byr': '1950', 'ecl': 'grn', 'cid': '338', 'hgt': '159cm', 'hcl': '#6b5442', 'eyr': '2025'}\n{'pid': '396358436', 'hcl': '#ceb3a1', 'byr': '1976', 'eyr': '2025', 'iyr': '2012', 'ecl': 'brn', 'hgt': '174cm'}\n{'pid': '389292752', 'eyr': '2027', 'cid': '335', 'hgt': '65in', 'byr': '1974', 'hcl': '#6b5442', 'ecl': 'oth', 'iyr': '2019'}\n{'ecl': 'amb', 'iyr': '2010', 'hcl': '#602927', 'hgt': '164cm', 'byr': '1966', 'pid': '749383114', 'eyr': '2026'}\n{'pid': '656206688', 'hgt': '175cm', 'hcl': '#6b5442', 'byr': '1961', 'eyr': '2028', 'ecl': 'amb', 'iyr': '2010'}\n{'hgt': '179cm', 'eyr': '2028', 'byr': '1958', 'pid': '095076581', 'ecl': 'gry', 'hcl': '#733820', 'iyr': '2017'}\n{'pid': '143359781', 'hcl': '#a97842', 'byr': '1996', 'hgt': '184cm', 'eyr': '2020', 'cid': '319', 'ecl': 'blu', 'iyr': '2020'}\n{'eyr': '2025', 'iyr': '2013', 'hgt': '154cm', 'hcl': '#b6652a', 'ecl': 'oth', 'byr': '1979', 'pid': '976151938'}\n{'iyr': '2016', 'hgt': '153cm', 'hcl': '#6d55cd', 'eyr': '2026', 'ecl': 'hzl', 'byr': '1943', 'pid': '257485710', 'cid': '165'}\n{'hcl': '#ceb3a1', 'ecl': 'blu', 'byr': '1937', 'hgt': '152cm', 'iyr': '2020', 'eyr': '2026', 'pid': '032844291'}\n{'hcl': '#fffffd', 'byr': '1937', 'pid': '122104515', 'ecl': 'hzl', 'iyr': '2018', 'eyr': '2027', 'hgt': '163cm'}\n{'pid': '897642631', 'iyr': '2015', 'byr': '1941', 'hcl': '#733820', 'ecl': 'brn', 'eyr': '2020', 'hgt': '179cm'}\n{'hgt': '152cm', 'ecl': 'gry', 'hcl': '#18171d', 'eyr': '2020', 'byr': '1971', 'iyr': '2020', 'pid': '211826434'}\n{'hcl': '#888785', 'eyr': '2022', 'pid': '233642738', 'byr': '1959', 'hgt': '191cm', 'ecl': 'blu', 'iyr': '2010'}\n{'cid': '131', 'hgt': '169cm', 'iyr': '2020', 'byr': '1994', 'eyr': '2021', 'ecl': 'amb', 'hcl': '#c0946f', 'pid': '243158461'}\n{'hcl': '#18171d', 'byr': '1980', 'ecl': 'oth', 'hgt': '153cm', 'eyr': '2028', 'iyr': '2020', 'pid': '629055498'}\n{'eyr': '2025', 'hcl': '#7d6ede', 'byr': '1988', 'hgt': '150cm', 'ecl': 'hzl', 'cid': '267', 'pid': '794369607', 'iyr': '2012'}\n{'pid': '538963835', 'ecl': 'oth', 'byr': '1958', 'hgt': '173cm', 'eyr': '2027', 'cid': '63', 'iyr': '2018', 'hcl': '#602927'}\n{'ecl': 'grn', 'pid': '411555227', 'byr': '1974', 'eyr': '2020', 'hgt': '153cm', 'iyr': '2015', 'hcl': '#a97842'}\n{'cid': '111', 'pid': '473064654', 'byr': '1948', 'ecl': 'brn', 'iyr': '2013', 'hcl': '#16fa7a', 'eyr': '2024', 'hgt': '184cm'}\n{'iyr': '2016', 'hgt': '170cm', 'byr': '1993', 'pid': '487807940', 'hcl': '#efcc98', 'eyr': '2024', 'ecl': 'gry'}\n{'hcl': '#a97842', 'pid': '891517350', 'iyr': '2012', 'byr': '1937', 'ecl': 'amb', 'eyr': '2030', 'hgt': '171cm'}\n{'hgt': '158cm', 'hcl': '#623a2f', 'byr': '1950', 'eyr': '2020', 'ecl': 'gry', 'pid': '708073090', 'iyr': '2018'}\n{'hgt': '158cm', 'iyr': '2017', 'eyr': '2027', 'ecl': 'brn', 'pid': '840573419', 'hcl': '#18171d', 'byr': '1968'}\n{'ecl': 'oth', 'cid': '81', 'hcl': '#ceb3a1', 'eyr': '2021', 'iyr': '2020', 'byr': '1959', 'hgt': '62in', 'pid': '634019849'}\n{'hgt': '180cm', 'pid': '651174767', 'iyr': '2013', 'byr': '1948', 'eyr': '2022', 'hcl': '#efcc98', 'ecl': 'grn'}\n{'pid': '425216058', 'hcl': '#7d3b0c', 'hgt': '67in', 'ecl': 'blu', 'eyr': '2022', 'iyr': '2016', 'byr': '1936', 'cid': '182'}\n{'byr': '1986', 'eyr': '2023', 'ecl': 'hzl', 'hcl': '#c0946f', 'hgt': '152cm', 'pid': '750393977', 'cid': '308', 'iyr': '2015'}\n{'ecl': 'grn', 'eyr': '2023', 'hcl': '#7d3b0c', 'byr': '1940', 'iyr': '2017', 'pid': '312213917', 'hgt': '166cm'}\n{'ecl': 'grn', 'pid': '293691668', 'byr': '1949', 'hgt': '60in', 'eyr': '2021', 'hcl': '#efcc98', 'iyr': '2017'}\n{'eyr': '2021', 'pid': '146888876', 'byr': '1962', 'iyr': '2010', 'cid': '63', 'ecl': 'amb', 'hgt': '188cm', 'hcl': '#a97842'}\n{'hgt': '157cm', 'hcl': '#18171d', 'eyr': '2022', 'byr': '1936', 'iyr': '2014', 'pid': '478341738', 'ecl': 'amb'}\n{'ecl': 'brn', 'eyr': '2026', 'pid': '553753060', 'hgt': '186cm', 'iyr': '2019', 'hcl': '#623a2f', 'byr': '1991'}\n{'iyr': '2018', 'ecl': 'blu', 'hcl': '#cfa07d', 'hgt': '162cm', 'byr': '1924', 'pid': '721804049', 'eyr': '2023'}\n{'cid': '164', 'iyr': '2014', 'byr': '1948', 'hgt': '163cm', 'pid': '701930596', 'ecl': 'gry', 'eyr': '2020', 'hcl': '#733820'}\n{'byr': '1951', 'hcl': '#fffffd', 'pid': '456803587', 'hgt': '157cm', 'ecl': 'blu', 'iyr': '2010', 'eyr': '2020'}\n{'byr': '1993', 'hgt': '167cm', 'ecl': 'amb', 'iyr': '2010', 'hcl': '#3da943', 'pid': '340209998', 'eyr': '2021'}\n{'byr': '1968', 'eyr': '2021', 'pid': '915482982', 'hcl': '#84a907', 'iyr': '2020', 'hgt': '176cm', 'ecl': 'grn'}\n{'iyr': '2015', 'pid': '317156655', 'cid': '144', 'hgt': '151cm', 'hcl': '#623a2f', 'ecl': 'brn', 'byr': '1966', 'eyr': '2021'}\n{'eyr': '2026', 'hcl': '#c0946f', 'hgt': '165cm', 'iyr': '2016', 'byr': '1921', 'ecl': 'blu', 'pid': '490419824'}\n{'hgt': '150cm', 'hcl': '#b6652a', 'ecl': 'brn', 'byr': '1937', 'iyr': '2013', 'pid': '824096447', 'eyr': '2027'}\n{'byr': '1974', 'eyr': '2022', 'hcl': '#afb1a8', 'ecl': 'oth', 'hgt': '159cm', 'cid': '252', 'pid': '619988658', 'iyr': '2018'}\n{'ecl': 'oth', 'eyr': '2029', 'hgt': '175cm', 'pid': '548668762', 'byr': '1982', 'iyr': '2020', 'hcl': '#c0946f'}\n{'byr': '1933', 'hcl': '#c0946f', 'ecl': 'gry', 'eyr': '2028', 'pid': '594772420', 'hgt': '167cm', 'iyr': '2020'}\n{'hgt': '187cm', 'hcl': '#888785', 'pid': '224041851', 'eyr': '2029', 'ecl': 'blu', 'iyr': '2012', 'byr': '1991'}\n{'hgt': '184cm', 'ecl': 'grn', 'byr': '1938', 'pid': '996091727', 'cid': '115', 'hcl': '#866857', 'iyr': '2020', 'eyr': '2020'}\n{'pid': '883396674', 'iyr': '2019', 'eyr': '2023', 'ecl': 'blu', 'byr': '1979', 'hcl': '#733820', 'cid': '125', 'hgt': '181cm'}\n{'hgt': '190cm', 'cid': '325', 'hcl': '#866857', 'eyr': '2027', 'ecl': 'gry', 'iyr': '2013', 'pid': '317703100', 'byr': '1968'}\n{'hcl': '#866857', 'ecl': 'gry', 'pid': '652638412', 'eyr': '2025', 'iyr': '2015', 'hgt': '158cm', 'byr': '1953'}\n{'byr': '1956', 'hcl': '#cfa07d', 'eyr': '2025', 'pid': '728272575', 'hgt': '162cm', 'cid': '291', 'ecl': 'blu', 'iyr': '2020'}\n{'hgt': '189cm', 'byr': '1980', 'hcl': '#97fd64', 'ecl': 'grn', 'iyr': '2013', 'pid': '181599378', 'eyr': '2029'}\n{'iyr': '2018', 'hcl': '#007101', 'ecl': 'brn', 'byr': '1947', 'cid': '265', 'hgt': '159cm', 'pid': '288707610', 'eyr': '2024'}\n{'pid': '125685599', 'byr': '1995', 'ecl': 'blu', 'cid': '57', 'hgt': '172cm', 'iyr': '2020', 'hcl': '#b6652a', 'eyr': '2024'}\n{'ecl': 'oth', 'iyr': '2013', 'byr': '1947', 'pid': '532607157', 'hcl': '#7d3b0c', 'eyr': '2030', 'hgt': '191cm'}\n{'pid': '528940525', 'hcl': '#18171d', 'iyr': '2014', 'eyr': '2029', 'cid': '181', 'byr': '1967', 'ecl': 'gry', 'hgt': '64in'}\n{'hgt': '71in', 'iyr': '2019', 'hcl': '#cfa07d', 'eyr': '2029', 'pid': '785691813', 'byr': '1996', 'ecl': 'hzl', 'cid': '335'}\n{'hgt': '188cm', 'eyr': '2025', 'cid': '107', 'ecl': 'grn', 'pid': '286480470', 'hcl': '#623a2f', 'byr': '1967', 'iyr': '2015'}\n{'iyr': '2015', 'eyr': '2027', 'hgt': '173cm', 'byr': '1983', 'pid': '500176757', 'ecl': 'amb', 'hcl': '#7d3b0c'}\n{'cid': '282', 'pid': '697942299', 'hgt': '185cm', 'eyr': '2026', 'hcl': '#7d3b0c', 'iyr': '2017', 'byr': '2002', 'ecl': 'amb'}\n{'iyr': '2014', 'hcl': '#18171d', 'pid': '044482202', 'ecl': 'oth', 'hgt': '163cm', 'eyr': '2021', 'byr': '1982'}\n{'eyr': '2021', 'hgt': '165cm', 'cid': '207', 'iyr': '2010', 'ecl': 'gry', 'byr': '1929', 'hcl': '#733820', 'pid': '442632632'}\n{'eyr': '2027', 'pid': '281765118', 'hcl': '#ceb3a1', 'hgt': '193cm', 'byr': '1955', 'ecl': 'gry', 'cid': '321', 'iyr': '2010'}\n{'ecl': 'brn', 'hgt': '71in', 'cid': '189', 'byr': '1962', 'eyr': '2023', 'iyr': '2018', 'pid': '780797141', 'hcl': '#866857'}\n{'pid': '984503466', 'ecl': 'amb', 'hgt': '192cm', 'byr': '1942', 'hcl': '#dcc50d', 'iyr': '2020', 'eyr': '2030', 'cid': '250'}\n{'hcl': '#7d3b0c', 'eyr': '2028', 'hgt': '178cm', 'ecl': 'gry', 'iyr': '2011', 'byr': '1923', 'pid': '960277768'}\n{'byr': '2000', 'ecl': 'amb', 'cid': '199', 'eyr': '2027', 'iyr': '2020', 'pid': '785585164', 'hcl': '#888785', 'hgt': '164cm'}\n{'iyr': '2015', 'pid': '619005249', 'ecl': 'brn', 'byr': '1955', 'eyr': '2028', 'hgt': '183cm', 'hcl': '#a97842'}\n{'ecl': 'grn', 'byr': '1970', 'cid': '339', 'iyr': '2011', 'hcl': '#a97842', 'pid': '952307953', 'eyr': '2027', 'hgt': '159cm'}\n{'eyr': '2028', 'hcl': '#733820', 'pid': '767003752', 'byr': '1935', 'hgt': '167cm', 'iyr': '2016', 'ecl': 'oth', 'cid': '215'}\n{'cid': '125', 'ecl': 'amb', 'iyr': '2019', 'hcl': '#18171d', 'eyr': '2022', 'hgt': '163cm', 'pid': '239764055', 'byr': '1954'}\n{'ecl': 'gry', 'iyr': '2019', 'hcl': '#cfa07d', 'byr': '1929', 'pid': '221011852', 'cid': '274', 'eyr': '2026', 'hgt': '158cm'}\n{'ecl': 'hzl', 'eyr': '2021', 'hcl': '#b6652a', 'pid': '856617617', 'byr': '1949', 'hgt': '153cm', 'iyr': '2015'}\n{'hgt': '164cm', 'ecl': 'gry', 'eyr': '2025', 'pid': '147932207', 'iyr': '2011', 'byr': '1984', 'hcl': '#fffffd'}\n{'byr': '2001', 'hcl': '#4784a2', 'hgt': '161cm', 'iyr': '2014', 'eyr': '2025', 'pid': '955262336', 'ecl': 'amb'}\n168\n"
     ]
    }
   ],
   "source": [
    "# Day 4 Part 2\n",
    "import re\n",
    "f = open(\"Data/advent4.txt\", \"r\")\n",
    "lines = f.read()\n",
    "c = lines.split(\"\\n\\n\")\n",
    "count = 0\n",
    "eyecolors =['amb', 'blu', 'brn' ,'gry', 'grn' ,'hzl' ,'oth']\n",
    "for x in c:\n",
    "    t = x.split(\"\\n\")\n",
    "    list = []\n",
    "    for m in t:\n",
    "        j = m.split(\" \")\n",
    "        for n in j:\n",
    "            list.append(n)\n",
    "\n",
    "    d = dict(s.split(':',1) for s in list)\n",
    "    #print(d)\n",
    "\n",
    "    if {'byr', 'iyr', 'eyr', 'hgt','hcl','ecl','pid'} <= d.keys():\n",
    "        s = d['hgt']\n",
    "        if len(s) < 4:\n",
    "            continue\n",
    "        height = int(s[0:len(s)-2])\n",
    "        if int(d['byr']) < 1920 or int(d['byr']) > 2002:\n",
    "            continue\n",
    "        elif int(d['iyr']) < 2010 or int(d['iyr']) > 2020:\n",
    "            continue\n",
    "        elif int(d['eyr']) < 2020 or int(d['eyr']) > 2030:\n",
    "            continue\n",
    "        elif \"in\" in d['hgt'] and (height < 59 or height > 76):\n",
    "            continue\n",
    "        elif \"cm\" in d['hgt'] and (height < 150 or height > 193):\n",
    "            continue\n",
    "        elif not d['hcl'].startswith('#'):    \n",
    "            continue\n",
    "        elif  re.search(\"^[a-f0-9_-]*$\", d['hcl'][1:len(d['hcl'])]) == None or len((d['hcl'])) != 7 or len(re.search(\"^[a-f0-9]*$\", d['hcl'][1:len(d['hcl'])]).group(0)) < 6:\n",
    "            continue\n",
    "        elif d['ecl'] not in eyecolors:\n",
    "            continue\n",
    "        elif  not re.search('[0-9]{9}',d['pid']):\n",
    "            continue\n",
    "        print(d)\n",
    "        count += 1\n",
    "print(count)"
   ]
  },
  {
   "cell_type": "code",
   "execution_count": null,
   "metadata": {},
   "outputs": [],
   "source": []
  },
  {
   "cell_type": "code",
   "execution_count": null,
   "metadata": {},
   "outputs": [],
   "source": []
  }
 ]
}