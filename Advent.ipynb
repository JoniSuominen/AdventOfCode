{
 "metadata": {
  "language_info": {
   "codemirror_mode": {
    "name": "ipython",
    "version": 3
   },
   "file_extension": ".py",
   "mimetype": "text/x-python",
   "name": "python",
   "nbconvert_exporter": "python",
   "pygments_lexer": "ipython3",
   "version": "3.8.3-final"
  },
  "orig_nbformat": 2,
  "kernelspec": {
   "name": "python3",
   "display_name": "Python 3"
  }
 },
 "nbformat": 4,
 "nbformat_minor": 2,
 "cells": [
  {
   "source": [
    "Advent of Code Notebook\n"
   ],
   "cell_type": "markdown",
   "metadata": {}
  },
  {
   "source": [
    "# Day 1\n",
    "\n",
    "f = open(\"Data/advent1.txt\", \"r\")\n",
    "lines = f.read().splitlines()\n",
    "found = False\n",
    "for x in lines:\n",
    "    for y in lines:\n",
    "        c = int(x) + int(y)\n",
    "        if c == 2020:\n",
    "            print(int(x)*int(y))\n",
    "            found = True\n",
    "        if found:\n",
    "            break\n",
    "    if found:\n",
    "        break\n",
    "\n"
   ],
   "cell_type": "code",
   "metadata": {},
   "execution_count": null,
   "outputs": []
  },
  {
   "cell_type": "code",
   "execution_count": null,
   "metadata": {},
   "outputs": [],
   "source": [
    "# Day 1\n",
    "f = open(\"Data/advent1.txt\", \"r\")\n",
    "lines = f.read().splitlines()\n",
    "found = False\n",
    "for x in lines:\n",
    "    for y in lines:\n",
    "        for z in lines:\n",
    "            c = int(x) + int(y) + int(z)\n",
    "            if c == 2020:\n",
    "                print(int(x)*int(y) * int(z))\n",
    "                found = True\n",
    "            if found:\n",
    "                break\n",
    "        if found:\n",
    "            break\n",
    "    if found:\n",
    "        break"
   ]
  },
  {
   "cell_type": "code",
   "execution_count": null,
   "metadata": {
    "tags": []
   },
   "outputs": [],
   "source": [
    "# Day 2 Part 1\n",
    "f = open(\"Data/advent2.txt\", \"r\")\n",
    "lines = f.read().splitlines()\n",
    "valids = 0\n",
    "for x in lines:\n",
    "    arr = x.split()\n",
    "    lower = int(arr[0].split(\"-\")[0])\n",
    "    higher = int(arr[0].split(\"-\")[1])\n",
    "    letter = arr[1].split(\":\")[0]\n",
    "    count = 0\n",
    "    for c in arr[2]:\n",
    "        if c == letter:\n",
    "            count += 1\n",
    "    if count >= lower and count <= higher:\n",
    "        valids += 1\n",
    "\n",
    "print(valids)\n",
    "    \n",
    "    "
   ]
  },
  {
   "cell_type": "code",
   "execution_count": null,
   "metadata": {},
   "outputs": [],
   "source": [
    "# Day 2 Part 2\n",
    "f = open(\"Data/advent2.txt\", \"r\")\n",
    "lines = f.read().splitlines()\n",
    "valids = 0\n",
    "for x in lines:\n",
    "    arr = x.split()\n",
    "    lower = int(arr[0].split(\"-\")[0])\n",
    "    higher = int(arr[0].split(\"-\")[1])\n",
    "    letter = arr[1].split(\":\")[0]\n",
    "    count = 0\n",
    "    for i in range(len(arr[2])):\n",
    "        if arr[2][i] == letter and (i+1 == lower or i + 1 == higher):\n",
    "            count += 1\n",
    "    if count > 0 and count < 2:\n",
    "        valids += 1\n",
    "\n",
    "#print(valids)\n",
    "    "
   ]
  },
  {
   "cell_type": "code",
   "execution_count": null,
   "metadata": {
    "tags": []
   },
   "outputs": [],
   "source": [
    "# Day 3 Part 1\n",
    "f = open(\"Data/advent3.txt\", \"r\")\n",
    "lines = f.read().splitlines()\n",
    "j = 3\n",
    "count = 0\n",
    "for x in range(len(lines)):\n",
    "    if x == 1:\n",
    "        continue\n",
    "    arr = [char for char in lines[x]]  \n",
    "    if j >= len(lines[x]):\n",
    "        j = j - len(lines[x])\n",
    "    if (arr[j] == '#'):\n",
    "        count +=  1\n",
    "    j += 3\n",
    "\n",
    "print(count)\n"
   ]
  },
  {
   "cell_type": "code",
   "execution_count": null,
   "metadata": {},
   "outputs": [],
   "source": [
    "# Day 3 Part 2\n",
    "f = open(\"Data/advent3.txt\", \"r\")\n",
    "lines = f.read().splitlines()\n",
    "slopes = [[1, 1], [3,1], [5,1], [7,1], [1,2]]\n",
    "slopeidx = 0\n",
    "count = 0\n",
    "while(slopeidx < 5):\n",
    "    tempcount = 0\n",
    "    x = slopes[slopeidx][1]\n",
    "    y = slopes[slopeidx][0]\n",
    "    while(x < len(lines)):\n",
    "        arr = [char for char in lines[x]]  \n",
    "        if y >= len(lines[x]):\n",
    "            y = y - len(lines[x])\n",
    "        if (arr[y] == \"#\"):\n",
    "            tempcount += 1\n",
    "        x += slopes[slopeidx][1]\n",
    "        y += slopes[slopeidx][0]\n",
    "    slopeidx += 1\n",
    "    if (count == 0):\n",
    "        count += tempcount\n",
    "    else:\n",
    "        count *= tempcount\n",
    "    \n",
    "print(count)"
   ]
  },
  {
   "cell_type": "code",
   "execution_count": null,
   "metadata": {
    "tags": []
   },
   "outputs": [],
   "source": [
    "# Day 4 Part 1\n",
    "f = open(\"Data/advent4.txt\", \"r\")\n",
    "lines = f.read()\n",
    "c = lines.split(\"\\n\\n\")\n",
    "count = 0\n",
    "for x in c:\n",
    "    t = x.split(\"\\n\")\n",
    "    list = []\n",
    "    for m in t:\n",
    "        j = m.split(\" \")\n",
    "        for n in j:\n",
    "            list.append(n)\n",
    "\n",
    "    d = dict(s.split(':',1) for s in list)\n",
    "\n",
    "    if {'byr', 'iyr', 'eyr', 'hgt','hcl','ecl','pid'} <= d.keys():\n",
    "        #print(d)\n",
    "        count += 1\n",
    "print(count)\n"
   ]
  },
  {
   "cell_type": "code",
   "execution_count": 37,
   "metadata": {
    "tags": []
   },
   "outputs": [
    {
     "output_type": "stream",
     "name": "stdout",
     "text": [
      "#733820\n#cfa07d\n#7d3b0c\n#cfa07d\n#733820\n#7d3b0c\n#733820\n#602927\n#602927\n#7d3b0c\n#8d840f\n#733820\n#7d3b0c\n#602927\n#602927\n#602927\n#733820\n#602927\n#602927\n#cfa07d\n#c0946f\n#cfa07d\n#7d3b0c\n#733820\n#cfa07d\n#cfa07d\n#60945e\n#733820\n#602927\n#733820\n#cfa07d\n#733820\n#c0946f\n#602927\n#7d3b0c\n#c0946f\n#7d3b0c\n#cfa07d\n#733820\n#84a907\n#c0946f\n#c0946f\n#c0946f\n#733820\n#cfa07d\n#007101\n#7d3b0c\n#cfa07d\n#7d3b0c\n#7d3b0c\n#733820\n#dcc50d\n#7d3b0c\n#733820\n#cfa07d\n115\n"
     ]
    }
   ],
   "source": [
    "# Day 4 Part 2\n",
    "import re\n",
    "f = open(\"Data/advent4.txt\", \"r\")\n",
    "lines = f.read()\n",
    "c = lines.split(\"\\n\\n\")\n",
    "count = 0\n",
    "eyecolors =['amb', 'blu', 'brn' ,'gry', 'grn' ,'hzl' ,'oth']\n",
    "for x in c:\n",
    "    t = x.split(\"\\n\")\n",
    "    list = []\n",
    "    for m in t:\n",
    "        j = m.split(\" \")\n",
    "        for n in j:\n",
    "            list.append(n)\n",
    "\n",
    "    d = dict(s.split(':',1) for s in list)\n",
    "    #print(d)\n",
    "\n",
    "    if {'byr', 'iyr', 'eyr', 'hgt','hcl','ecl','pid'} <= d.keys():\n",
    "        s = d.get('hgt')\n",
    "        if len(s) < 4:\n",
    "            continue\n",
    "        height = int(s[0:len(s)-2])\n",
    "        if int(d.get('byr')) < 1920 or int(d.get('byr')) > 2002:\n",
    "            continue\n",
    "        elif int(d.get('iyr')) < 2010 or int(d.get('iyr')) > 2020:\n",
    "            continue\n",
    "        elif int(d.get('eyr')) < 2020 or int(d.get('eyr')) > 2030:\n",
    "            continue\n",
    "        elif \"in\" in d.get('hgt') and (height < 59 or height > 76):\n",
    "            continue\n",
    "        elif \"cm\" in d.get('hgt') and (height < 150 or height > 193):\n",
    "            continue\n",
    "        elif not d.get('hcl').startswith('#'):    \n",
    "            continue\n",
    "        elif not re.search('[a-f1-9]{6}', d.get('hcl')[1:len(d.get('hcl'))]):\n",
    "            print(d.get('hcl'))\n",
    "            continue\n",
    "        elif d.get('ecl') not in eyecolors:\n",
    "            continue\n",
    "        elif  not re.search('[0-9]{9}', d.get('pid')):\n",
    "            continue\n",
    "        count += 1\n",
    "print(count)"
   ]
  },
  {
   "cell_type": "code",
   "execution_count": null,
   "metadata": {},
   "outputs": [],
   "source": []
  },
  {
   "cell_type": "code",
   "execution_count": null,
   "metadata": {},
   "outputs": [],
   "source": []
  }
 ]
}